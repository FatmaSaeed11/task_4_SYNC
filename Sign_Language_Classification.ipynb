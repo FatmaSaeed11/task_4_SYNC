{
  "nbformat": 4,
  "nbformat_minor": 0,
  "metadata": {
    "colab": {
      "provenance": []
    },
    "kernelspec": {
      "name": "python3",
      "display_name": "Python 3"
    },
    "language_info": {
      "name": "python"
    }
  },
  "cells": [
    {
      "cell_type": "markdown",
      "source": [
        "load our data from kaggle"
      ],
      "metadata": {
        "id": "NdyZpNfLwZdu"
      }
    },
    {
      "cell_type": "code",
      "execution_count": 1,
      "metadata": {
        "id": "soMunRO8viIC",
        "colab": {
          "base_uri": "https://localhost:8080/"
        },
        "outputId": "5a543435-97d8-4dfc-d194-40753bf5d687"
      },
      "outputs": [
        {
          "output_type": "stream",
          "name": "stdout",
          "text": [
            "Requirement already satisfied: kaggle in /usr/local/lib/python3.10/dist-packages (1.5.16)\n",
            "Requirement already satisfied: six>=1.10 in /usr/local/lib/python3.10/dist-packages (from kaggle) (1.16.0)\n",
            "Requirement already satisfied: certifi in /usr/local/lib/python3.10/dist-packages (from kaggle) (2023.11.17)\n",
            "Requirement already satisfied: python-dateutil in /usr/local/lib/python3.10/dist-packages (from kaggle) (2.8.2)\n",
            "Requirement already satisfied: requests in /usr/local/lib/python3.10/dist-packages (from kaggle) (2.31.0)\n",
            "Requirement already satisfied: tqdm in /usr/local/lib/python3.10/dist-packages (from kaggle) (4.66.1)\n",
            "Requirement already satisfied: python-slugify in /usr/local/lib/python3.10/dist-packages (from kaggle) (8.0.1)\n",
            "Requirement already satisfied: urllib3 in /usr/local/lib/python3.10/dist-packages (from kaggle) (2.0.7)\n",
            "Requirement already satisfied: bleach in /usr/local/lib/python3.10/dist-packages (from kaggle) (6.1.0)\n",
            "Requirement already satisfied: webencodings in /usr/local/lib/python3.10/dist-packages (from bleach->kaggle) (0.5.1)\n",
            "Requirement already satisfied: text-unidecode>=1.3 in /usr/local/lib/python3.10/dist-packages (from python-slugify->kaggle) (1.3)\n",
            "Requirement already satisfied: charset-normalizer<4,>=2 in /usr/local/lib/python3.10/dist-packages (from requests->kaggle) (3.3.2)\n",
            "Requirement already satisfied: idna<4,>=2.5 in /usr/local/lib/python3.10/dist-packages (from requests->kaggle) (3.6)\n"
          ]
        }
      ],
      "source": [
        "!pip install kaggle"
      ]
    },
    {
      "cell_type": "code",
      "source": [
        "!mkdir -p ~/.kaggle\n",
        "!cp kaggle.json ~/.kaggle/\n",
        "!chmod 600 ~/.kaggle/kaggle.json"
      ],
      "metadata": {
        "id": "x3PAM-Plw48n"
      },
      "execution_count": 2,
      "outputs": []
    },
    {
      "cell_type": "code",
      "source": [
        "!kaggle datasets download -d datamunge/sign-language-mnist"
      ],
      "metadata": {
        "colab": {
          "base_uri": "https://localhost:8080/"
        },
        "id": "-H8wTvMDw-0v",
        "outputId": "aace8bfe-6b4d-46d7-8f25-c60cfe86caf6"
      },
      "execution_count": 3,
      "outputs": [
        {
          "output_type": "stream",
          "name": "stdout",
          "text": [
            "Downloading sign-language-mnist.zip to /content\n",
            " 94% 59.0M/62.6M [00:00<00:00, 124MB/s]\n",
            "100% 62.6M/62.6M [00:00<00:00, 113MB/s]\n"
          ]
        }
      ]
    },
    {
      "cell_type": "code",
      "source": [
        "from zipfile import ZipFile\n",
        "dataset='/content/sign-language-mnist.zip'\n",
        "with ZipFile(dataset,'r') as zip:\n",
        "  zip.extractall()\n",
        "  print('the dataset is extracted')"
      ],
      "metadata": {
        "colab": {
          "base_uri": "https://localhost:8080/"
        },
        "id": "VY7RvmOSxH2S",
        "outputId": "9373b1dc-75d5-4212-90a1-635f6531391b"
      },
      "execution_count": 4,
      "outputs": [
        {
          "output_type": "stream",
          "name": "stdout",
          "text": [
            "the dataset is extracted\n"
          ]
        }
      ]
    },
    {
      "cell_type": "markdown",
      "source": [
        "import important libraries"
      ],
      "metadata": {
        "id": "kakcfIjTxeEu"
      }
    },
    {
      "cell_type": "code",
      "source": [
        "import os\n",
        "import numpy as np\n",
        "import pandas as pd\n",
        "import matplotlib.pyplot as plt\n",
        "import random\n",
        "from keras.utils import to_categorical\n",
        "from keras.models import Sequential\n",
        "from keras.layers import Conv2D,MaxPooling2D,Dense,Flatten,Dropout\n",
        "from sklearn.metrics import accuracy_score\n",
        "from sklearn.metrics import confusion_matrix\n",
        "import seaborn as sns\n",
        ""
      ],
      "metadata": {
        "id": "Mgnz8vz0xdvA"
      },
      "execution_count": 53,
      "outputs": []
    },
    {
      "cell_type": "markdown",
      "source": [
        "extract our data"
      ],
      "metadata": {
        "id": "_lO49FHKzGPJ"
      }
    },
    {
      "cell_type": "code",
      "source": [
        "train_data=pd.read_csv('/content/sign_mnist_train/sign_mnist_train.csv')\n",
        "test_data=pd.read_csv('/content/sign_mnist_test/sign_mnist_test.csv')\n",
        "\n"
      ],
      "metadata": {
        "id": "ZLn4zf2MzFic"
      },
      "execution_count": 8,
      "outputs": []
    },
    {
      "cell_type": "code",
      "source": [
        "# len_data\n",
        "print(len(train_data))\n",
        "\n",
        "print(len(test_data))"
      ],
      "metadata": {
        "colab": {
          "base_uri": "https://localhost:8080/"
        },
        "id": "R5QnDvpXz2Vb",
        "outputId": "816aa235-1cc9-4bd9-9b5e-c72a1b37e107"
      },
      "execution_count": 14,
      "outputs": [
        {
          "output_type": "stream",
          "name": "stdout",
          "text": [
            "27455\n",
            "7172\n"
          ]
        }
      ]
    },
    {
      "cell_type": "markdown",
      "source": [
        "convert dataset to np array"
      ],
      "metadata": {
        "id": "eSoJK7mNzFS1"
      }
    },
    {
      "cell_type": "code",
      "source": [
        "train_np=np.array(train_data,dtype='float32')\n",
        "test_np=np.array(test_data,dtype='float32')\n"
      ],
      "metadata": {
        "id": "fGAqeKtk37Up"
      },
      "execution_count": 15,
      "outputs": []
    },
    {
      "cell_type": "markdown",
      "source": [
        "labeling"
      ],
      "metadata": {
        "id": "Is91NTZ64Yz2"
      }
    },
    {
      "cell_type": "code",
      "source": [
        "class_names=['A','B','C','D','E','F','G','H','I','J','K','L','M','N','O','P','Q','R','S','T','U','V','W','X','Y']"
      ],
      "metadata": {
        "id": "jenBRYvv4YLZ"
      },
      "execution_count": 16,
      "outputs": []
    },
    {
      "cell_type": "markdown",
      "source": [
        "check and plot images"
      ],
      "metadata": {
        "id": "gFqujBy17Vbf"
      }
    },
    {
      "cell_type": "code",
      "source": [
        "im=random.randint(1,train_data.shape[0])"
      ],
      "metadata": {
        "id": "5MqmofKY7Sbv"
      },
      "execution_count": 17,
      "outputs": []
    },
    {
      "cell_type": "code",
      "source": [
        "fig1,ax1=plt.subplots(figsize=(2,2))\n",
        "plt.imshow(train_np[im,1:].reshape((28,28)),cmap='gray')\n",
        "print(\"Lable for the image is:\",class_names[int(train_np[im,0])])"
      ],
      "metadata": {
        "colab": {
          "base_uri": "https://localhost:8080/",
          "height": 235
        },
        "id": "Uz2rY3_v76PK",
        "outputId": "f9672683-a9c5-478d-d8ce-ff363da9eea4"
      },
      "execution_count": 19,
      "outputs": [
        {
          "output_type": "stream",
          "name": "stdout",
          "text": [
            "Lable for the image is: M\n"
          ]
        },
        {
          "output_type": "display_data",
          "data": {
            "text/plain": [
              "<Figure size 200x200 with 1 Axes>"
            ],
            "image/png": "[encoded data removed]"
          },
          "metadata": {}
        }
      ]
    },
    {
      "cell_type": "markdown",
      "source": [
        "normalization"
      ],
      "metadata": {
        "id": "FInrEBLf-wWr"
      }
    },
    {
      "cell_type": "code",
      "source": [
        "x_train=train_np[:,1:]/255.\n",
        "x_test=test_np[:,1:]/255.\n"
      ],
      "metadata": {
        "id": "Tp0fEXbW-0mH"
      },
      "execution_count": 20,
      "outputs": []
    },
    {
      "cell_type": "markdown",
      "source": [
        "catigorical our lables"
      ],
      "metadata": {
        "id": "6DjQGKpB__RC"
      }
    },
    {
      "cell_type": "code",
      "source": [
        "y_train=train_np[:,0]\n",
        "y_train_cat=to_categorical(y_train,num_classes=25)"
      ],
      "metadata": {
        "id": "-3ZaHOTHAEWA"
      },
      "execution_count": 31,
      "outputs": []
    },
    {
      "cell_type": "code",
      "source": [
        "y_test=test_np[:,0]\n",
        "y_test_cat=to_categorical(y_test,num_classes=25)"
      ],
      "metadata": {
        "id": "QuzIA5DbAgTU"
      },
      "execution_count": 32,
      "outputs": []
    },
    {
      "cell_type": "markdown",
      "source": [
        "reshape"
      ],
      "metadata": {
        "id": "i2miRpi5BEfD"
      }
    },
    {
      "cell_type": "code",
      "source": [
        "x_train=x_train.reshape(x_train.shape[0],*(28,28,1))\n",
        "x_test=x_test.reshape(x_test.shape[0],*(28,28,1))\n"
      ],
      "metadata": {
        "id": "sz3jdC6MBGJe"
      },
      "execution_count": 33,
      "outputs": []
    },
    {
      "cell_type": "markdown",
      "source": [
        "Bild model"
      ],
      "metadata": {
        "id": "R1zyG2JfFyxy"
      }
    },
    {
      "cell_type": "code",
      "source": [
        "model=Sequential()\n",
        "model.add(Conv2D(32,(3,3),input_shape=(28,28,1),activation='relu'))\n",
        "model.add(MaxPooling2D(pool_size=(2,2)))\n",
        "model.add(Dropout(0.2))\n",
        "model.add(Conv2D(64,(3,3),activation='relu'))\n",
        "model.add(MaxPooling2D(pool_size=(2,2)))\n",
        "model.add(Dropout(0.2))\n",
        "model.add(Conv2D(128,(3,3),activation='relu'))\n",
        "model.add(MaxPooling2D(pool_size=(2,2)))\n",
        "model.add(Dropout(0.2))\n",
        "model.add(Flatten())\n",
        "model.add(Dense(128,activation='relu'))\n",
        "model.add(Dense(25,activation='softmax'))\n",
        "\n"
      ],
      "metadata": {
        "id": "Sm4yqsTIFxxp"
      },
      "execution_count": 34,
      "outputs": []
    },
    {
      "cell_type": "code",
      "source": [
        "model.compile(loss='categorical_crossentropy',optimizer='adam',metrics=['accuracy'])"
      ],
      "metadata": {
        "id": "43YRQ5kyHJw1"
      },
      "execution_count": 35,
      "outputs": []
    },
    {
      "cell_type": "code",
      "source": [
        "model.summary()"
      ],
      "metadata": {
        "colab": {
          "base_uri": "https://localhost:8080/"
        },
        "id": "UYQXSynnHflv",
        "outputId": "03315d11-848f-4f1d-e909-84f29d5f8654"
      },
      "execution_count": 36,
      "outputs": [
        {
          "output_type": "stream",
          "name": "stdout",
          "text": [
            "Model: \"sequential_1\"\n",
            "_________________________________________________________________\n",
            " Layer (type)                Output Shape              Param #   \n",
            "=================================================================\n",
            " conv2d_3 (Conv2D)           (None, 26, 26, 32)        320       \n",
            "                                                                 \n",
            " max_pooling2d_3 (MaxPoolin  (None, 13, 13, 32)        0         \n",
            " g2D)                                                            \n",
            "                                                                 \n",
            " dropout_3 (Dropout)         (None, 13, 13, 32)        0         \n",
            "                                                                 \n",
            " conv2d_4 (Conv2D)           (None, 11, 11, 64)        18496     \n",
            "                                                                 \n",
            " max_pooling2d_4 (MaxPoolin  (None, 5, 5, 64)          0         \n",
            " g2D)                                                            \n",
            "                                                                 \n",
            " dropout_4 (Dropout)         (None, 5, 5, 64)          0         \n",
            "                                                                 \n",
            " conv2d_5 (Conv2D)           (None, 3, 3, 128)         73856     \n",
            "                                                                 \n",
            " max_pooling2d_5 (MaxPoolin  (None, 1, 1, 128)         0         \n",
            " g2D)                                                            \n",
            "                                                                 \n",
            " dropout_5 (Dropout)         (None, 1, 1, 128)         0         \n",
            "                                                                 \n",
            " flatten_1 (Flatten)         (None, 128)               0         \n",
            "                                                                 \n",
            " dense_2 (Dense)             (None, 128)               16512     \n",
            "                                                                 \n",
            " dense_3 (Dense)             (None, 25)                3225      \n",
            "                                                                 \n",
            "=================================================================\n",
            "Total params: 112409 (439.10 KB)\n",
            "Trainable params: 112409 (439.10 KB)\n",
            "Non-trainable params: 0 (0.00 Byte)\n",
            "_________________________________________________________________\n"
          ]
        }
      ]
    },
    {
      "cell_type": "code",
      "source": [
        "history=model.fit(x_train,y_train_cat,batch_size=128,epochs=10,verbose=1,validation_data=(x_test,y_test_cat))"
      ],
      "metadata": {
        "colab": {
          "base_uri": "https://localhost:8080/"
        },
        "id": "bw3TDfyEHmN8",
        "outputId": "9b141790-6e70-4641-b693-7e8a02425c3f"
      },
      "execution_count": 37,
      "outputs": [
        {
          "output_type": "stream",
          "name": "stdout",
          "text": [
            "Epoch 1/10\n",
            "215/215 [==============================] - 33s 148ms/step - loss: 2.6421 - accuracy: 0.1926 - val_loss: 1.5825 - val_accuracy: 0.5095\n",
            "Epoch 2/10\n",
            "215/215 [==============================] - 31s 143ms/step - loss: 1.1547 - accuracy: 0.6093 - val_loss: 0.8348 - val_accuracy: 0.7177\n",
            "Epoch 3/10\n",
            "215/215 [==============================] - 31s 146ms/step - loss: 0.6863 - accuracy: 0.7658 - val_loss: 0.5536 - val_accuracy: 0.8054\n",
            "Epoch 4/10\n",
            "215/215 [==============================] - 31s 144ms/step - loss: 0.4671 - accuracy: 0.8422 - val_loss: 0.4113 - val_accuracy: 0.8555\n",
            "Epoch 5/10\n",
            "215/215 [==============================] - 30s 140ms/step - loss: 0.3240 - accuracy: 0.8905 - val_loss: 0.3722 - val_accuracy: 0.8705\n",
            "Epoch 6/10\n",
            "215/215 [==============================] - 32s 150ms/step - loss: 0.2383 - accuracy: 0.9197 - val_loss: 0.2767 - val_accuracy: 0.9152\n",
            "Epoch 7/10\n",
            "215/215 [==============================] - 29s 137ms/step - loss: 0.1874 - accuracy: 0.9380 - val_loss: 0.2664 - val_accuracy: 0.9138\n",
            "Epoch 8/10\n",
            "215/215 [==============================] - 28s 131ms/step - loss: 0.1475 - accuracy: 0.9515 - val_loss: 0.2596 - val_accuracy: 0.9168\n",
            "Epoch 9/10\n",
            "215/215 [==============================] - 31s 146ms/step - loss: 0.1240 - accuracy: 0.9593 - val_loss: 0.2183 - val_accuracy: 0.9339\n",
            "Epoch 10/10\n",
            "215/215 [==============================] - 33s 156ms/step - loss: 0.0971 - accuracy: 0.9694 - val_loss: 0.2284 - val_accuracy: 0.9254\n"
          ]
        }
      ]
    },
    {
      "cell_type": "markdown",
      "source": [
        "Accuracy"
      ],
      "metadata": {
        "id": "iWsjx_PxKMgm"
      }
    },
    {
      "cell_type": "code",
      "source": [
        "loss=history.history['loss']\n",
        "val_loss=history.history['val_loss']\n",
        "epochs=range(1,len(loss)+1)\n",
        "plt.plot(epochs,loss,'y',label='Training loss')\n",
        "plt.plot(epochs,val_loss,'y',label='validation loss')\n",
        "plt.title('Training and validation loss')\n",
        "plt.xlabel('Epochs')\n",
        "plt.ylabel('LOss')\n",
        "plt.legend()\n",
        "plt.show()\n",
        "\n",
        "accuracy=history.history['accuracy']\n",
        "val_accuracy=history.history['val_accuracy']\n",
        "\n",
        "plt.plot(epochs,accuracy,'y',label='Training accuracy')\n",
        "plt.plot(epochs,val_accuracy,'y',label='validation accuracy')\n",
        "plt.title('Training and validation accuracy')\n",
        "plt.xlabel('Epochs')\n",
        "plt.ylabel('Accuracy')\n",
        "plt.legend()\n",
        "plt.show()"
      ],
      "metadata": {
        "colab": {
          "base_uri": "https://localhost:8080/",
          "height": 927
        },
        "id": "bFzK3edQJK3w",
        "outputId": "0e38d1c7-a1a9-4e6a-e386-5a5d1a264118"
      },
      "execution_count": 47,
      "outputs": [
        {
          "output_type": "display_data",
          "data": {
            "text/plain": [
              "<Figure size 640x480 with 1 Axes>"
            ],
            "image/png": "[encoded data removed]"
          },
          "metadata": {}
        },
        {
          "output_type": "display_data",
          "data": {
            "text/plain": [
              "<Figure size 640x480 with 1 Axes>"
            ],
            "image/png": "[encoded data removed]"
          },
          "metadata": {}
        }
      ]
    },
    {
      "cell_type": "markdown",
      "source": [
        "Prediction"
      ],
      "metadata": {
        "id": "Llz_ywvIMGlT"
      }
    },
    {
      "cell_type": "code",
      "source": [
        "prediction=model.predict(x_test)"
      ],
      "metadata": {
        "colab": {
          "base_uri": "https://localhost:8080/"
        },
        "id": "xYDBwVTLMGRv",
        "outputId": "3b2d26da-a8d4-47fe-ca16-e06cf5ba9051"
      },
      "execution_count": 49,
      "outputs": [
        {
          "output_type": "stream",
          "name": "stdout",
          "text": [
            "225/225 [==============================] - 3s 12ms/step\n"
          ]
        }
      ]
    },
    {
      "cell_type": "code",
      "source": [
        "im=random.randint(1,len(prediction))\n",
        "plt.imshow(x_test[im,:,:,0])\n",
        "print(\"Lable for the image is:\",class_names[int(prediction[im,24])])\n",
        "print(\"True Lable is:\",class_names[int(y_test[im])])\n"
      ],
      "metadata": {
        "colab": {
          "base_uri": "https://localhost:8080/",
          "height": 467
        },
        "id": "RKHc_I8DOq4y",
        "outputId": "2f8924cc-617c-4369-9c65-e84436cf3809"
      },
      "execution_count": 75,
      "outputs": [
        {
          "output_type": "stream",
          "name": "stdout",
          "text": [
            "Lable for the image is: A\n",
            "True Lable is: A\n"
          ]
        },
        {
          "output_type": "display_data",
          "data": {
            "text/plain": [
              "<Figure size 640x480 with 1 Axes>"
            ],
            "image/png": "[encoded data removed]"
          },
          "metadata": {}
        }
      ]
    },
    {
      "cell_type": "code",
      "source": [
        "im=random.randint(1,len(prediction))\n",
        "plt.imshow(x_test[im,:,:,0])\n",
        "print(\"Lable for the image is:\",class_names[int(prediction[im,24])])\n",
        "print(\"True Lable is:\",class_names[int(y_test[im])])"
      ],
      "metadata": {
        "colab": {
          "base_uri": "https://localhost:8080/",
          "height": 467
        },
        "id": "ucoUSD80S9ow",
        "outputId": "da5bf1c4-d46a-4458-bdb5-2467e00919ca"
      },
      "execution_count": 77,
      "outputs": [
        {
          "output_type": "stream",
          "name": "stdout",
          "text": [
            "Lable for the image is: A\n",
            "True Lable is: W\n"
          ]
        },
        {
          "output_type": "display_data",
          "data": {
            "text/plain": [
              "<Figure size 640x480 with 1 Axes>"
            ],
            "image/png": "[encoded data removed]"
          },
          "metadata": {}
        }
      ]
    }
  ]
}